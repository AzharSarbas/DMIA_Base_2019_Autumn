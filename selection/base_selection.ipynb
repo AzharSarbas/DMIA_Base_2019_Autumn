{
 "cells": [
  {
   "cell_type": "markdown",
   "metadata": {},
   "source": [
    "# Отборочное задание базового направления"
   ]
  },
  {
   "cell_type": "markdown",
   "metadata": {},
   "source": [
    "## Задание 1.1\n",
    "\n",
    "Напишите функцию, которая принимает список чисел my_list (количество товаров разных марок) и число $n$ и возвращает сумму всех чисел списка меньше либо равных $n$ (суммарное количество товаров, которых в наличие меньше либо равно $n$)."
   ]
  },
  {
   "cell_type": "code",
   "execution_count": 1,
   "metadata": {
    "ExecuteTime": {
     "end_time": "2019-09-28T16:54:01.527487Z",
     "start_time": "2019-09-28T16:54:01.525455Z"
    }
   },
   "outputs": [],
   "source": [
    "def function_1_1(my_list, n):\n",
    "    # допишите код здесь\n",
    "    return"
   ]
  },
  {
   "cell_type": "code",
   "execution_count": 2,
   "metadata": {
    "ExecuteTime": {
     "end_time": "2019-09-28T16:54:02.043345Z",
     "start_time": "2019-09-28T16:54:02.033788Z"
    }
   },
   "outputs": [
    {
     "data": {
      "text/plain": [
       "False"
      ]
     },
     "execution_count": 2,
     "metadata": {},
     "output_type": "execute_result"
    }
   ],
   "source": [
    "function_1_1([1, 2, 3, 4, 5, 6, 3, 7], 7) == 31"
   ]
  },
  {
   "cell_type": "code",
   "execution_count": 3,
   "metadata": {
    "ExecuteTime": {
     "end_time": "2019-09-28T16:54:02.205500Z",
     "start_time": "2019-09-28T16:54:02.201299Z"
    }
   },
   "outputs": [
    {
     "data": {
      "text/plain": [
       "False"
      ]
     },
     "execution_count": 3,
     "metadata": {},
     "output_type": "execute_result"
    }
   ],
   "source": [
    "function_1_1([1, 2, 3, 4, 4, 3, 2, 1], 7) == 20"
   ]
  },
  {
   "cell_type": "code",
   "execution_count": 4,
   "metadata": {
    "ExecuteTime": {
     "end_time": "2019-09-28T16:54:02.359111Z",
     "start_time": "2019-09-28T16:54:02.354849Z"
    }
   },
   "outputs": [
    {
     "data": {
      "text/plain": [
       "False"
      ]
     },
     "execution_count": 4,
     "metadata": {},
     "output_type": "execute_result"
    }
   ],
   "source": [
    "function_1_1([1, 2, 3, 4, 4, 3, 2, 1], 3) == 12"
   ]
  },
  {
   "cell_type": "code",
   "execution_count": 5,
   "metadata": {
    "ExecuteTime": {
     "end_time": "2019-09-28T16:54:02.498259Z",
     "start_time": "2019-09-28T16:54:02.493938Z"
    }
   },
   "outputs": [
    {
     "data": {
      "text/plain": [
       "False"
      ]
     },
     "execution_count": 5,
     "metadata": {},
     "output_type": "execute_result"
    }
   ],
   "source": [
    "function_1_1([1, 2, 3, 4, 5, 6, 3, 7], 5) == 18"
   ]
  },
  {
   "cell_type": "code",
   "execution_count": 6,
   "metadata": {
    "ExecuteTime": {
     "end_time": "2019-09-28T16:54:02.653842Z",
     "start_time": "2019-09-28T16:54:02.649516Z"
    }
   },
   "outputs": [
    {
     "data": {
      "text/plain": [
       "False"
      ]
     },
     "execution_count": 6,
     "metadata": {},
     "output_type": "execute_result"
    }
   ],
   "source": [
    "function_1_1([1, 2, 3, 4, 5, 6, 3, 7], 3) == 9"
   ]
  },
  {
   "cell_type": "code",
   "execution_count": 7,
   "metadata": {
    "ExecuteTime": {
     "end_time": "2019-09-28T16:54:02.814768Z",
     "start_time": "2019-09-28T16:54:02.810218Z"
    }
   },
   "outputs": [
    {
     "data": {
      "text/plain": [
       "False"
      ]
     },
     "execution_count": 7,
     "metadata": {},
     "output_type": "execute_result"
    }
   ],
   "source": [
    "function_1_1([1, 2, 3, 4, 5, 6, 3, 7], 0) == 0"
   ]
  },
  {
   "cell_type": "markdown",
   "metadata": {},
   "source": [
    "#### Значение для формы"
   ]
  },
  {
   "cell_type": "code",
   "execution_count": null,
   "metadata": {},
   "outputs": [],
   "source": [
    "import random\n",
    "\n",
    "random.seed(42)\n",
    "print(function_1_1([random.randint(0, 1000) for _ in range(10000)], 700))"
   ]
  },
  {
   "cell_type": "markdown",
   "metadata": {},
   "source": [
    "## Задание 1.2\n",
    "\n",
    "Имеется список пар (фамилия, долг) $my\\_list$ и число $dept$. Нужно написать функцию, которая для каждой фамилии находит суммарный долг и выводит отсортированный список фамилий, у которых долг строго больше $dept$.\n",
    "\n",
    "Одна и та же фамилия может встречаться несколько раз, и тогда долги по ней суммируются."
   ]
  },
  {
   "cell_type": "code",
   "execution_count": null,
   "metadata": {},
   "outputs": [],
   "source": [
    "def function_1_2(my_list, dept):\n",
    "    # допишите код здесь\n",
    "    return"
   ]
  },
  {
   "cell_type": "code",
   "execution_count": null,
   "metadata": {},
   "outputs": [],
   "source": [
    "function_1_2([('Ivanov', 1), ('Petrov', 2), ('Ivanov', 2), ('Sidorov', 4)], 1) == ['Ivanov', 'Petrov', 'Sidorov']"
   ]
  },
  {
   "cell_type": "code",
   "execution_count": null,
   "metadata": {},
   "outputs": [],
   "source": [
    "function_1_2([('Ivanov', 1), ('Petrov', 2), ('Ivanov', 2), ('Sidorov', 4)], 2) == ['Ivanov', 'Sidorov']"
   ]
  },
  {
   "cell_type": "code",
   "execution_count": null,
   "metadata": {},
   "outputs": [],
   "source": [
    "function_1_2([('Ivanov', 1), ('Petrov', 2), ('Ivanov', 2), ('Sidorov', 4)], 3) == ['Sidorov']"
   ]
  },
  {
   "cell_type": "code",
   "execution_count": null,
   "metadata": {},
   "outputs": [],
   "source": [
    "function_1_2([('Ivanov', 1), ('Petrov', 2), ('Ivanov', 2), ('Sidorov', 4)], 4) == []"
   ]
  },
  {
   "cell_type": "code",
   "execution_count": null,
   "metadata": {},
   "outputs": [],
   "source": [
    "function_1_2([('Ivanov', 1), ('Petrov', 2), ('Ivanov', 1), ('Sidorov', 4)], 2) == ['Sidorov']"
   ]
  },
  {
   "cell_type": "code",
   "execution_count": null,
   "metadata": {},
   "outputs": [],
   "source": [
    "function_1_2([('Ivanov', 1), ('Petrov', 2), ('Ivanov', 2), ('Petrov', 4)], 2) == ['Ivanov', 'Petrov']"
   ]
  },
  {
   "cell_type": "code",
   "execution_count": null,
   "metadata": {},
   "outputs": [],
   "source": [
    "function_1_2([('Ivanov', 1), ('Petrov', 2), ('Ivanov', 2), ('Petrov', 4)], 3) == ['Petrov']"
   ]
  },
  {
   "cell_type": "markdown",
   "metadata": {},
   "source": [
    "#### Значение для формы"
   ]
  },
  {
   "cell_type": "code",
   "execution_count": null,
   "metadata": {},
   "outputs": [],
   "source": [
    "import random\n",
    "import numpy as np\n",
    "\n",
    "\n",
    "random.seed(42)\n",
    "print(','.join(function_1_2([\n",
    "    (str(random.randint(1, 20)), random.randint(1, 1000) )\n",
    "    for _ in range(1000)\n",
    "], 25000)))"
   ]
  },
  {
   "cell_type": "markdown",
   "metadata": {},
   "source": [
    "## Задание 2.1\n",
    "\n",
    "Напишите функцию, принимающую число $n$ и считающую $n!$, не используя модуль math\n",
    "\n",
    "$n! = 1 \\cdot 2 \\cdot 3 \\cdot \\dots \\cdot (n - 1) \\cdot n$\n",
    "\n",
    "Подсказка: воспользуйтесь циклами"
   ]
  },
  {
   "cell_type": "code",
   "execution_count": null,
   "metadata": {},
   "outputs": [],
   "source": [
    "def function_2_1(n):\n",
    "    # допишите код здесь\n",
    "    return"
   ]
  },
  {
   "cell_type": "code",
   "execution_count": null,
   "metadata": {},
   "outputs": [],
   "source": [
    "function_2_1(3) == 6"
   ]
  },
  {
   "cell_type": "code",
   "execution_count": null,
   "metadata": {},
   "outputs": [],
   "source": [
    "function_2_1(5) == 120"
   ]
  },
  {
   "cell_type": "code",
   "execution_count": null,
   "metadata": {},
   "outputs": [],
   "source": [
    "function_2_1(9) == 362880"
   ]
  },
  {
   "cell_type": "code",
   "execution_count": null,
   "metadata": {},
   "outputs": [],
   "source": [
    "function_2_1(13) == 6227020800"
   ]
  },
  {
   "cell_type": "markdown",
   "metadata": {},
   "source": [
    "#### Значение для формы"
   ]
  },
  {
   "cell_type": "code",
   "execution_count": null,
   "metadata": {},
   "outputs": [],
   "source": [
    "print(function_2_1(100))"
   ]
  },
  {
   "cell_type": "markdown",
   "metadata": {},
   "source": [
    "## Задание 2.2\n",
    "\n",
    "Есть два списка чисел: цены товаров в одном магазине и цены товаров в другом магазине.\n",
    "\n",
    "Нужно сравнить средние (среднее берётся по всем товарам) цены, минимальные цены и максимальные  в магазинах. Если первое зачение меньше надо вернуть 'First', если второе, то 'Second', а если равны, то 'Equal'\n",
    "\n",
    "Например, function_2_2([1, 2, 3], [2, 2, 2])\n",
    "\n",
    "В первом магазине среднее значение 2, минимальное 1, максимальное 3. А во втором среднее 2, минимальное 2 и максимальное 2.\n",
    "\n",
    "Результаты сравнения $2 = 2,~1 < 2,~3 > 2$, поэтому нужно вернуть  ('Equal', 'First', 'Second')"
   ]
  },
  {
   "cell_type": "code",
   "execution_count": null,
   "metadata": {},
   "outputs": [],
   "source": [
    "def function_2_2(list1, list2):\n",
    "    return # допишите код здесь"
   ]
  },
  {
   "cell_type": "code",
   "execution_count": null,
   "metadata": {},
   "outputs": [],
   "source": [
    "function_2_2([1, 2, 3], [2, 2, 2]) == ('Equal', 'First', 'Second')"
   ]
  },
  {
   "cell_type": "code",
   "execution_count": null,
   "metadata": {},
   "outputs": [],
   "source": [
    "function_2_2([2, 2, 1], [4]) ==('First', 'First', 'First')"
   ]
  },
  {
   "cell_type": "code",
   "execution_count": null,
   "metadata": {},
   "outputs": [],
   "source": [
    "function_2_2([3, 5], [2, 4, 6]) == ('Equal', 'Second', 'First')"
   ]
  },
  {
   "cell_type": "code",
   "execution_count": null,
   "metadata": {},
   "outputs": [],
   "source": [
    "function_2_2([1, 7], [2, 4, 7]) == ('First', 'First', 'Equal')"
   ]
  },
  {
   "cell_type": "markdown",
   "metadata": {},
   "source": [
    "#### Значение для формы"
   ]
  },
  {
   "cell_type": "code",
   "execution_count": null,
   "metadata": {},
   "outputs": [],
   "source": [
    "import random\n",
    "\n",
    "random.seed(47)\n",
    "print(','.join(function_2_2(\n",
    "    [random.randint(0, 100000) for _ in range(1000)],\n",
    "    [random.randint(0, 100000) for _ in range(1000)]\n",
    ")))"
   ]
  },
  {
   "cell_type": "markdown",
   "metadata": {},
   "source": [
    "## Задание 3.1\n",
    "\n",
    "Вам известны количество продаж разных товаров. Они представлены в виде списка, первое значение - число продаж первого товара, второе значение - второго, и так далее. Вы хотите посмотреть на список самых популярных товаров среди тех, у которых объём продаж не выше заданного числа.\n",
    "\n",
    "Напишите функцию, которая принимает список чисел my_list, число  $n$ и число $k$  и возвращает сумму $k$ наибольших чисел среди всех чисел списка меньше либо равных  $n$ ."
   ]
  },
  {
   "cell_type": "code",
   "execution_count": null,
   "metadata": {},
   "outputs": [],
   "source": [
    "def function_3_1(my_list, n, k):\n",
    "    # допишите код здесь\n",
    "    return"
   ]
  },
  {
   "cell_type": "code",
   "execution_count": null,
   "metadata": {},
   "outputs": [],
   "source": [
    "function_3_1([1, 2, 3, 4, 5, 6, 3, 7], 7, 1) == 7"
   ]
  },
  {
   "cell_type": "code",
   "execution_count": null,
   "metadata": {},
   "outputs": [],
   "source": [
    "function_3_1([1, 2, 3, 4, 5, 6, 3, 7], 7, 3) == 18"
   ]
  },
  {
   "cell_type": "code",
   "execution_count": null,
   "metadata": {},
   "outputs": [],
   "source": [
    "function_3_1([1, 2, 3, 4, 5, 6, 3, 7], 7, 5) == 25"
   ]
  },
  {
   "cell_type": "code",
   "execution_count": null,
   "metadata": {},
   "outputs": [],
   "source": [
    "function_3_1([1, 2, 3, 4, 5, 6, 3, 7], 7, 8) == 31"
   ]
  },
  {
   "cell_type": "code",
   "execution_count": null,
   "metadata": {},
   "outputs": [],
   "source": [
    "function_3_1([1, 2, 3, 4, 5, 6, 3, 7], 7, 10) == 31"
   ]
  },
  {
   "cell_type": "code",
   "execution_count": null,
   "metadata": {},
   "outputs": [],
   "source": [
    "function_3_1([1, 5, 3, 6, 5, 6, 3, 6], 6, 3) == 18"
   ]
  },
  {
   "cell_type": "code",
   "execution_count": null,
   "metadata": {},
   "outputs": [],
   "source": [
    "function_3_1([1, 5, 3, 6, 5, 6, 3, 6], 5, 3) == 13"
   ]
  },
  {
   "cell_type": "code",
   "execution_count": null,
   "metadata": {},
   "outputs": [],
   "source": [
    "function_3_1([1, 5, 3, 6, 5, 6, 3, 6], 4, 3) == 7"
   ]
  },
  {
   "cell_type": "code",
   "execution_count": null,
   "metadata": {},
   "outputs": [],
   "source": [
    "function_3_1([1, 5, 3, 6, 5, 6, 3, 6], 6, 2) == 12"
   ]
  },
  {
   "cell_type": "code",
   "execution_count": null,
   "metadata": {},
   "outputs": [],
   "source": [
    "function_3_1([1, 5, 3, 6, 5, 6, 3, 6], 5, 2) == 10"
   ]
  },
  {
   "cell_type": "code",
   "execution_count": null,
   "metadata": {},
   "outputs": [],
   "source": [
    "function_3_1([1, 5, 3, 6, 5, 6, 3, 6], 4, 2) == 6"
   ]
  },
  {
   "cell_type": "markdown",
   "metadata": {},
   "source": [
    "#### Значение для формы"
   ]
  },
  {
   "cell_type": "code",
   "execution_count": null,
   "metadata": {},
   "outputs": [],
   "source": [
    "import random\n",
    "\n",
    "random.seed(42)\n",
    "print(function_3_1([random.randint(0, 1000) for _ in range(10000)], 700, 300))"
   ]
  },
  {
   "cell_type": "markdown",
   "metadata": {},
   "source": [
    "## Задание 3.2\n",
    "\n",
    "Напишите списковое выражение, генерирующее все простые числа не больше заданного числа"
   ]
  },
  {
   "cell_type": "code",
   "execution_count": null,
   "metadata": {},
   "outputs": [],
   "source": [
    "def function_3_2(n):\n",
    "    return [\n",
    "        # допишите код здесь\n",
    "    ]"
   ]
  },
  {
   "cell_type": "code",
   "execution_count": null,
   "metadata": {},
   "outputs": [],
   "source": [
    "function_3_2(3) == [2, 3]"
   ]
  },
  {
   "cell_type": "code",
   "execution_count": null,
   "metadata": {},
   "outputs": [],
   "source": [
    "function_3_2(10) == [2, 3, 5, 7]"
   ]
  },
  {
   "cell_type": "code",
   "execution_count": null,
   "metadata": {},
   "outputs": [],
   "source": [
    "function_3_2(20) == [2, 3, 5, 7, 11, 13, 17, 19]"
   ]
  },
  {
   "cell_type": "markdown",
   "metadata": {},
   "source": [
    "#### Значение для формы"
   ]
  },
  {
   "cell_type": "code",
   "execution_count": null,
   "metadata": {},
   "outputs": [],
   "source": [
    "print(sum(function_3_2(10000)))"
   ]
  },
  {
   "cell_type": "markdown",
   "metadata": {},
   "source": [
    "# Задание 4"
   ]
  },
  {
   "cell_type": "markdown",
   "metadata": {},
   "source": [
    "\n",
    "По данным характеристикам молекулы требуется определить, будет ли дан биологический ответ (biological response).\n",
    "\n",
    "Для демонстрации используется обучающая выборка из исходных данных bioresponse.csv, файл с данными прилагается."
   ]
  },
  {
   "cell_type": "code",
   "execution_count": 8,
   "metadata": {
    "ExecuteTime": {
     "end_time": "2019-09-28T16:54:30.103729Z",
     "start_time": "2019-09-28T16:54:28.645909Z"
    }
   },
   "outputs": [],
   "source": [
    "import pandas as pd\n",
    "\n",
    "bioresponce = pd.read_csv('bioresponse.csv', header=0, sep=',')"
   ]
  },
  {
   "cell_type": "code",
   "execution_count": 9,
   "metadata": {
    "ExecuteTime": {
     "end_time": "2019-09-28T16:54:30.129693Z",
     "start_time": "2019-09-28T16:54:30.105537Z"
    }
   },
   "outputs": [
    {
     "data": {
      "text/html": [
       "<div>\n",
       "<style scoped>\n",
       "    .dataframe tbody tr th:only-of-type {\n",
       "        vertical-align: middle;\n",
       "    }\n",
       "\n",
       "    .dataframe tbody tr th {\n",
       "        vertical-align: top;\n",
       "    }\n",
       "\n",
       "    .dataframe thead th {\n",
       "        text-align: right;\n",
       "    }\n",
       "</style>\n",
       "<table border=\"1\" class=\"dataframe\">\n",
       "  <thead>\n",
       "    <tr style=\"text-align: right;\">\n",
       "      <th></th>\n",
       "      <th>Activity</th>\n",
       "      <th>D1</th>\n",
       "      <th>D2</th>\n",
       "      <th>D3</th>\n",
       "      <th>D4</th>\n",
       "      <th>D5</th>\n",
       "      <th>D6</th>\n",
       "      <th>D7</th>\n",
       "      <th>D8</th>\n",
       "      <th>D9</th>\n",
       "      <th>...</th>\n",
       "      <th>D1767</th>\n",
       "      <th>D1768</th>\n",
       "      <th>D1769</th>\n",
       "      <th>D1770</th>\n",
       "      <th>D1771</th>\n",
       "      <th>D1772</th>\n",
       "      <th>D1773</th>\n",
       "      <th>D1774</th>\n",
       "      <th>D1775</th>\n",
       "      <th>D1776</th>\n",
       "    </tr>\n",
       "  </thead>\n",
       "  <tbody>\n",
       "    <tr>\n",
       "      <th>0</th>\n",
       "      <td>1</td>\n",
       "      <td>0.000000</td>\n",
       "      <td>0.497009</td>\n",
       "      <td>0.10</td>\n",
       "      <td>0.0</td>\n",
       "      <td>0.132956</td>\n",
       "      <td>0.678031</td>\n",
       "      <td>0.273166</td>\n",
       "      <td>0.585445</td>\n",
       "      <td>0.743663</td>\n",
       "      <td>...</td>\n",
       "      <td>0</td>\n",
       "      <td>0</td>\n",
       "      <td>0</td>\n",
       "      <td>0</td>\n",
       "      <td>0</td>\n",
       "      <td>0</td>\n",
       "      <td>0</td>\n",
       "      <td>0</td>\n",
       "      <td>0</td>\n",
       "      <td>0</td>\n",
       "    </tr>\n",
       "    <tr>\n",
       "      <th>1</th>\n",
       "      <td>1</td>\n",
       "      <td>0.366667</td>\n",
       "      <td>0.606291</td>\n",
       "      <td>0.05</td>\n",
       "      <td>0.0</td>\n",
       "      <td>0.111209</td>\n",
       "      <td>0.803455</td>\n",
       "      <td>0.106105</td>\n",
       "      <td>0.411754</td>\n",
       "      <td>0.836582</td>\n",
       "      <td>...</td>\n",
       "      <td>1</td>\n",
       "      <td>1</td>\n",
       "      <td>1</td>\n",
       "      <td>1</td>\n",
       "      <td>0</td>\n",
       "      <td>1</td>\n",
       "      <td>0</td>\n",
       "      <td>0</td>\n",
       "      <td>1</td>\n",
       "      <td>0</td>\n",
       "    </tr>\n",
       "    <tr>\n",
       "      <th>2</th>\n",
       "      <td>1</td>\n",
       "      <td>0.033300</td>\n",
       "      <td>0.480124</td>\n",
       "      <td>0.00</td>\n",
       "      <td>0.0</td>\n",
       "      <td>0.209791</td>\n",
       "      <td>0.610350</td>\n",
       "      <td>0.356453</td>\n",
       "      <td>0.517720</td>\n",
       "      <td>0.679051</td>\n",
       "      <td>...</td>\n",
       "      <td>0</td>\n",
       "      <td>0</td>\n",
       "      <td>0</td>\n",
       "      <td>0</td>\n",
       "      <td>0</td>\n",
       "      <td>0</td>\n",
       "      <td>0</td>\n",
       "      <td>0</td>\n",
       "      <td>0</td>\n",
       "      <td>0</td>\n",
       "    </tr>\n",
       "    <tr>\n",
       "      <th>3</th>\n",
       "      <td>1</td>\n",
       "      <td>0.000000</td>\n",
       "      <td>0.538825</td>\n",
       "      <td>0.00</td>\n",
       "      <td>0.5</td>\n",
       "      <td>0.196344</td>\n",
       "      <td>0.724230</td>\n",
       "      <td>0.235606</td>\n",
       "      <td>0.288764</td>\n",
       "      <td>0.805110</td>\n",
       "      <td>...</td>\n",
       "      <td>0</td>\n",
       "      <td>0</td>\n",
       "      <td>0</td>\n",
       "      <td>0</td>\n",
       "      <td>0</td>\n",
       "      <td>0</td>\n",
       "      <td>0</td>\n",
       "      <td>0</td>\n",
       "      <td>0</td>\n",
       "      <td>0</td>\n",
       "    </tr>\n",
       "    <tr>\n",
       "      <th>4</th>\n",
       "      <td>0</td>\n",
       "      <td>0.100000</td>\n",
       "      <td>0.517794</td>\n",
       "      <td>0.00</td>\n",
       "      <td>0.0</td>\n",
       "      <td>0.494734</td>\n",
       "      <td>0.781422</td>\n",
       "      <td>0.154361</td>\n",
       "      <td>0.303809</td>\n",
       "      <td>0.812646</td>\n",
       "      <td>...</td>\n",
       "      <td>0</td>\n",
       "      <td>0</td>\n",
       "      <td>0</td>\n",
       "      <td>0</td>\n",
       "      <td>0</td>\n",
       "      <td>0</td>\n",
       "      <td>0</td>\n",
       "      <td>0</td>\n",
       "      <td>0</td>\n",
       "      <td>0</td>\n",
       "    </tr>\n",
       "  </tbody>\n",
       "</table>\n",
       "<p>5 rows × 1777 columns</p>\n",
       "</div>"
      ],
      "text/plain": [
       "   Activity        D1        D2    D3   D4        D5        D6        D7  \\\n",
       "0         1  0.000000  0.497009  0.10  0.0  0.132956  0.678031  0.273166   \n",
       "1         1  0.366667  0.606291  0.05  0.0  0.111209  0.803455  0.106105   \n",
       "2         1  0.033300  0.480124  0.00  0.0  0.209791  0.610350  0.356453   \n",
       "3         1  0.000000  0.538825  0.00  0.5  0.196344  0.724230  0.235606   \n",
       "4         0  0.100000  0.517794  0.00  0.0  0.494734  0.781422  0.154361   \n",
       "\n",
       "         D8        D9  ...  D1767  D1768  D1769  D1770  D1771  D1772  D1773  \\\n",
       "0  0.585445  0.743663  ...      0      0      0      0      0      0      0   \n",
       "1  0.411754  0.836582  ...      1      1      1      1      0      1      0   \n",
       "2  0.517720  0.679051  ...      0      0      0      0      0      0      0   \n",
       "3  0.288764  0.805110  ...      0      0      0      0      0      0      0   \n",
       "4  0.303809  0.812646  ...      0      0      0      0      0      0      0   \n",
       "\n",
       "   D1774  D1775  D1776  \n",
       "0      0      0      0  \n",
       "1      0      1      0  \n",
       "2      0      0      0  \n",
       "3      0      0      0  \n",
       "4      0      0      0  \n",
       "\n",
       "[5 rows x 1777 columns]"
      ]
     },
     "execution_count": 9,
     "metadata": {},
     "output_type": "execute_result"
    }
   ],
   "source": [
    "bioresponce.head(5)"
   ]
  },
  {
   "cell_type": "code",
   "execution_count": 10,
   "metadata": {
    "ExecuteTime": {
     "end_time": "2019-09-28T16:54:30.220666Z",
     "start_time": "2019-09-28T16:54:30.181171Z"
    }
   },
   "outputs": [],
   "source": [
    "y = bioresponce.Activity.values\n",
    "X = bioresponce.iloc[:, 1:]"
   ]
  },
  {
   "cell_type": "markdown",
   "metadata": {},
   "source": [
    "## Заимпортиуем модель"
   ]
  },
  {
   "cell_type": "code",
   "execution_count": 11,
   "metadata": {
    "ExecuteTime": {
     "end_time": "2019-09-28T16:54:32.860897Z",
     "start_time": "2019-09-28T16:54:32.310225Z"
    }
   },
   "outputs": [],
   "source": [
    "from sklearn.linear_model import LogisticRegression\n",
    "from sklearn.neighbors import KNeighborsClassifier\n",
    "from sklearn.tree import DecisionTreeClassifier\n",
    "from sklearn.svm import LinearSVC\n",
    "from sklearn.ensemble import RandomForestClassifier, GradientBoostingClassifier\n",
    "\n",
    "from sklearn.model_selection import cross_val_score"
   ]
  },
  {
   "cell_type": "code",
   "execution_count": 13,
   "metadata": {
    "ExecuteTime": {
     "end_time": "2019-09-28T16:56:30.662697Z",
     "start_time": "2019-09-28T16:54:34.723370Z"
    }
   },
   "outputs": [
    {
     "name": "stderr",
     "output_type": "stream",
     "text": [
      "/Users/chukrello/python_3_env/lib/python3.7/site-packages/sklearn/linear_model/logistic.py:432: FutureWarning: Default solver will be changed to 'lbfgs' in 0.22. Specify a solver to silence this warning.\n",
      "  FutureWarning)\n",
      "/Users/chukrello/python_3_env/lib/python3.7/site-packages/sklearn/linear_model/logistic.py:432: FutureWarning: Default solver will be changed to 'lbfgs' in 0.22. Specify a solver to silence this warning.\n",
      "  FutureWarning)\n",
      "/Users/chukrello/python_3_env/lib/python3.7/site-packages/sklearn/linear_model/logistic.py:432: FutureWarning: Default solver will be changed to 'lbfgs' in 0.22. Specify a solver to silence this warning.\n",
      "  FutureWarning)\n",
      "/Users/chukrello/python_3_env/lib/python3.7/site-packages/sklearn/linear_model/logistic.py:432: FutureWarning: Default solver will be changed to 'lbfgs' in 0.22. Specify a solver to silence this warning.\n",
      "  FutureWarning)\n",
      "/Users/chukrello/python_3_env/lib/python3.7/site-packages/sklearn/linear_model/logistic.py:432: FutureWarning: Default solver will be changed to 'lbfgs' in 0.22. Specify a solver to silence this warning.\n",
      "  FutureWarning)\n"
     ]
    },
    {
     "name": "stdout",
     "output_type": "stream",
     "text": [
      "LogisticRegression(C=1.0, class_weight=None, dual=False, fit_intercept=True,\n",
      "                   intercept_scaling=1, l1_ratio=None, max_iter=100,\n",
      "                   multi_class='warn', n_jobs=None, penalty='l2',\n",
      "                   random_state=None, solver='warn', tol=0.0001, verbose=0,\n",
      "                   warm_start=False) \n",
      "Accuracy: 0.7518013365357094\n",
      "CPU times: user 4.86 s, sys: 581 ms, total: 5.44 s\n",
      "Wall time: 3.02 s\n",
      "\n",
      "KNeighborsClassifier(algorithm='auto', leaf_size=30, metric='minkowski',\n",
      "                     metric_params=None, n_jobs=None, n_neighbors=5, p=2,\n",
      "                     weights='uniform') \n",
      "Accuracy: 0.7480751086372301\n",
      "CPU times: user 32.7 s, sys: 292 ms, total: 33 s\n",
      "Wall time: 32.6 s\n",
      "\n",
      "DecisionTreeClassifier(class_weight=None, criterion='gini', max_depth=None,\n",
      "                       max_features=None, max_leaf_nodes=None,\n",
      "                       min_impurity_decrease=0.0, min_impurity_split=None,\n",
      "                       min_samples_leaf=1, min_samples_split=2,\n",
      "                       min_weight_fraction_leaf=0.0, presort=False,\n",
      "                       random_state=None, splitter='best') \n",
      "Accuracy: 0.7267410423840753\n",
      "CPU times: user 4.83 s, sys: 128 ms, total: 4.96 s\n",
      "Wall time: 5.01 s\n",
      "\n"
     ]
    },
    {
     "name": "stderr",
     "output_type": "stream",
     "text": [
      "/Users/chukrello/python_3_env/lib/python3.7/site-packages/sklearn/svm/base.py:929: ConvergenceWarning: Liblinear failed to converge, increase the number of iterations.\n",
      "  \"the number of iterations.\", ConvergenceWarning)\n",
      "/Users/chukrello/python_3_env/lib/python3.7/site-packages/sklearn/svm/base.py:929: ConvergenceWarning: Liblinear failed to converge, increase the number of iterations.\n",
      "  \"the number of iterations.\", ConvergenceWarning)\n",
      "/Users/chukrello/python_3_env/lib/python3.7/site-packages/sklearn/svm/base.py:929: ConvergenceWarning: Liblinear failed to converge, increase the number of iterations.\n",
      "  \"the number of iterations.\", ConvergenceWarning)\n",
      "/Users/chukrello/python_3_env/lib/python3.7/site-packages/sklearn/svm/base.py:929: ConvergenceWarning: Liblinear failed to converge, increase the number of iterations.\n",
      "  \"the number of iterations.\", ConvergenceWarning)\n",
      "/Users/chukrello/python_3_env/lib/python3.7/site-packages/sklearn/svm/base.py:929: ConvergenceWarning: Liblinear failed to converge, increase the number of iterations.\n",
      "  \"the number of iterations.\", ConvergenceWarning)\n"
     ]
    },
    {
     "name": "stdout",
     "output_type": "stream",
     "text": [
      "LinearSVC(C=1.0, class_weight=None, dual=True, fit_intercept=True,\n",
      "          intercept_scaling=1, loss='squared_hinge', max_iter=1000,\n",
      "          multi_class='ovr', penalty='l2', random_state=None, tol=0.0001,\n",
      "          verbose=0) \n",
      "Accuracy: 0.739004515208027\n",
      "CPU times: user 9.29 s, sys: 457 ms, total: 9.75 s\n",
      "Wall time: 7.31 s\n",
      "\n",
      "RandomForestClassifier(bootstrap=True, class_weight=None, criterion='gini',\n",
      "                       max_depth=None, max_features='auto', max_leaf_nodes=None,\n",
      "                       min_impurity_decrease=0.0, min_impurity_split=None,\n",
      "                       min_samples_leaf=1, min_samples_split=2,\n",
      "                       min_weight_fraction_leaf=0.0, n_estimators=100,\n",
      "                       n_jobs=None, oob_score=False, random_state=None,\n",
      "                       verbose=0, warm_start=False) \n",
      "Accuracy: 0.7877931952471618\n",
      "CPU times: user 7.47 s, sys: 343 ms, total: 7.81 s\n",
      "Wall time: 7.27 s\n",
      "\n",
      "GradientBoostingClassifier(criterion='friedman_mse', init=None,\n",
      "                           learning_rate=0.1, loss='deviance', max_depth=3,\n",
      "                           max_features=None, max_leaf_nodes=None,\n",
      "                           min_impurity_decrease=0.0, min_impurity_split=None,\n",
      "                           min_samples_leaf=1, min_samples_split=2,\n",
      "                           min_weight_fraction_leaf=0.0, n_estimators=100,\n",
      "                           n_iter_no_change=None, presort='auto',\n",
      "                           random_state=None, subsample=1.0, tol=0.0001,\n",
      "                           validation_fraction=0.1, verbose=0,\n",
      "                           warm_start=False) \n",
      "Accuracy: 0.7840602169959414\n",
      "CPU times: user 1min, sys: 324 ms, total: 1min\n",
      "Wall time: 1min\n",
      "\n"
     ]
    }
   ],
   "source": [
    "models = [\n",
    "    LogisticRegression(),\n",
    "    KNeighborsClassifier(),\n",
    "    DecisionTreeClassifier(),\n",
    "    LinearSVC(),\n",
    "    RandomForestClassifier(n_estimators=100), \n",
    "    GradientBoostingClassifier(n_estimators=100)\n",
    "]\n",
    "\n",
    "for model in models:\n",
    "    %time print(model, '\\nAccuracy:', cross_val_score(model, X, y, cv=5).mean())\n",
    "    print()"
   ]
  },
  {
   "cell_type": "markdown",
   "metadata": {},
   "source": [
    "## Задание\n",
    "\n",
    "Используя класс для перебора параметров по сетке [GridSearchCV](http://scikit-learn.org/stable/modules/generated/sklearn.model_selection.GridSearchCV.html), напишите перебор параметров LogisticRegression:\n",
    "- Параметр C по степеням 10 от -2 до +2\n",
    "- Параметр max_iter от 100 до 500 включительно с шагом 100\n",
    "- Параметр penalty либо 'l1' либо 'l2'\n",
    "- Параметр random_state обязательно 42\n",
    "- Параметр fit_intercept либо False либо True\n"
   ]
  },
  {
   "cell_type": "code",
   "execution_count": 15,
   "metadata": {
    "ExecuteTime": {
     "end_time": "2019-09-28T16:58:29.070098Z",
     "start_time": "2019-09-28T16:58:29.067798Z"
    }
   },
   "outputs": [],
   "source": [
    "from sklearn.model_selection import GridSearchCV"
   ]
  },
  {
   "cell_type": "code",
   "execution_count": null,
   "metadata": {},
   "outputs": [],
   "source": [
    "param_grid = dict() #TODO\n",
    "\n",
    "print(round(GridSearchCV(\n",
    "   LogisticRegression(),  param_grid, cv=5\n",
    ").fit(X, y).best_score_, 4))"
   ]
  },
  {
   "cell_type": "code",
   "execution_count": 18,
   "metadata": {
    "ExecuteTime": {
     "end_time": "2019-09-28T17:01:46.031428Z",
     "start_time": "2019-09-28T17:01:46.028767Z"
    }
   },
   "outputs": [],
   "source": [
    "import warnings\n",
    "warnings.filterwarnings('ignore')"
   ]
  },
  {
   "cell_type": "code",
   "execution_count": 37,
   "metadata": {
    "ExecuteTime": {
     "end_time": "2019-09-28T17:26:48.916717Z",
     "start_time": "2019-09-28T17:17:52.823295Z"
    },
    "scrolled": true
   },
   "outputs": [
    {
     "name": "stdout",
     "output_type": "stream",
     "text": [
      "Fitting 5 folds for each of 100 candidates, totalling 500 fits\n"
     ]
    },
    {
     "name": "stderr",
     "output_type": "stream",
     "text": [
      "[Parallel(n_jobs=4)]: Using backend LokyBackend with 4 concurrent workers.\n",
      "[Parallel(n_jobs=4)]: Done   5 tasks      | elapsed:    1.4s\n",
      "[Parallel(n_jobs=4)]: Done  10 tasks      | elapsed:    1.9s\n",
      "[Parallel(n_jobs=4)]: Done  17 tasks      | elapsed:    2.5s\n",
      "[Parallel(n_jobs=4)]: Done  24 tasks      | elapsed:    2.9s\n",
      "[Parallel(n_jobs=4)]: Done  33 tasks      | elapsed:    3.6s\n",
      "[Parallel(n_jobs=4)]: Done  42 tasks      | elapsed:    4.3s\n",
      "[Parallel(n_jobs=4)]: Done  53 tasks      | elapsed:    5.2s\n",
      "[Parallel(n_jobs=4)]: Done  64 tasks      | elapsed:    6.1s\n",
      "[Parallel(n_jobs=4)]: Done  77 tasks      | elapsed:    7.1s\n",
      "[Parallel(n_jobs=4)]: Done  90 tasks      | elapsed:    8.0s\n",
      "[Parallel(n_jobs=4)]: Done 105 tasks      | elapsed:    9.1s\n",
      "[Parallel(n_jobs=4)]: Done 120 tasks      | elapsed:   10.9s\n",
      "[Parallel(n_jobs=4)]: Done 137 tasks      | elapsed:   12.6s\n",
      "[Parallel(n_jobs=4)]: Done 154 tasks      | elapsed:   14.3s\n",
      "[Parallel(n_jobs=4)]: Done 173 tasks      | elapsed:   16.3s\n",
      "[Parallel(n_jobs=4)]: Done 192 tasks      | elapsed:   18.6s\n",
      "[Parallel(n_jobs=4)]: Done 213 tasks      | elapsed:   22.5s\n",
      "[Parallel(n_jobs=4)]: Done 234 tasks      | elapsed:   27.6s\n",
      "[Parallel(n_jobs=4)]: Done 257 tasks      | elapsed:   32.6s\n",
      "[Parallel(n_jobs=4)]: Done 280 tasks      | elapsed:   37.7s\n",
      "[Parallel(n_jobs=4)]: Done 305 tasks      | elapsed:   49.7s\n",
      "[Parallel(n_jobs=4)]: Done 330 tasks      | elapsed:  1.3min\n",
      "[Parallel(n_jobs=4)]: Done 357 tasks      | elapsed:  1.9min\n",
      "[Parallel(n_jobs=4)]: Done 384 tasks      | elapsed:  2.4min\n",
      "[Parallel(n_jobs=4)]: Done 413 tasks      | elapsed:  4.0min\n",
      "[Parallel(n_jobs=4)]: Done 442 tasks      | elapsed:  5.8min\n",
      "[Parallel(n_jobs=4)]: Done 473 tasks      | elapsed:  7.6min\n",
      "[Parallel(n_jobs=4)]: Done 500 out of 500 | elapsed:  8.9min finished\n"
     ]
    },
    {
     "name": "stdout",
     "output_type": "stream",
     "text": [
      "0.7627\n"
     ]
    }
   ],
   "source": [
    "param_grid = {\n",
    "    'C': [0.01, 0.1, 1, 10, 100],\n",
    "    'max_iter': list(range(100, 501, 100)),\n",
    "    'penalty': ['l1', 'l2'],\n",
    "    'random_state': [42],\n",
    "    'fit_intercept': [False, True]\n",
    "}\n",
    "\n",
    "print(round(GridSearchCV(\n",
    "   LogisticRegression(),  param_grid, cv=5, verbose=10, n_jobs=4\n",
    ").fit(X, y).best_score_, 4))"
   ]
  },
  {
   "cell_type": "markdown",
   "metadata": {},
   "source": [
    "Полученное число введите в форму для ответов"
   ]
  }
 ],
 "metadata": {
  "kernelspec": {
   "display_name": "python_3_env",
   "language": "python",
   "name": "python_3_env"
  },
  "language_info": {
   "codemirror_mode": {
    "name": "ipython",
    "version": 3
   },
   "file_extension": ".py",
   "mimetype": "text/x-python",
   "name": "python",
   "nbconvert_exporter": "python",
   "pygments_lexer": "ipython3",
   "version": "3.7.3"
  },
  "toc": {
   "base_numbering": 1,
   "nav_menu": {},
   "number_sections": true,
   "sideBar": true,
   "skip_h1_title": false,
   "title_cell": "Table of Contents",
   "title_sidebar": "Contents",
   "toc_cell": false,
   "toc_position": {},
   "toc_section_display": true,
   "toc_window_display": false
  }
 },
 "nbformat": 4,
 "nbformat_minor": 2
}
